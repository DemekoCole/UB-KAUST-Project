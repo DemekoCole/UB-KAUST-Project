{
 "cells": [
  {
   "cell_type": "code",
   "execution_count": 1,
   "metadata": {},
   "outputs": [
    {
     "name": "stdout",
     "output_type": "stream",
     "text": [
      "2.17.0\n",
      "3.12.3 (tags/v3.12.3:f6650f9, Apr  9 2024, 14:05:25) [MSC v.1938 64 bit (AMD64)]\n"
     ]
    }
   ],
   "source": [
    "import tensorflow as tf\n",
    "print(tf.__version__)\n",
    "\n",
    "import sys\n",
    "print(sys.version)"
   ]
  },
  {
   "cell_type": "code",
   "execution_count": 2,
   "metadata": {},
   "outputs": [],
   "source": [
    "import numpy as np\n",
    "import pandas as pd\n",
    "import tensorflow as tf\n",
    "from tensorflow.keras.models import Sequential\n",
    "from tensorflow.keras.layers import LSTM, Dense, Dropout\n",
    "from tensorflow.keras.optimizers import Adam, AdamW\n",
    "from sklearn.preprocessing import MinMaxScaler\n",
    "from sklearn.model_selection import train_test_split\n",
    "\n",
    "# Load the data from CSV\n",
    "df = pd.read_csv('HurriData.csv')\n",
    "\n",
    "# Assume the CSV has columns: timestamp, wind_speed, pressure, latitude, longitude, radius\n",
    "# And we want to predict the next latitude and longitude\n",
    "\n",
    "# Sort the dataframe by timestamp\n",
    "df = df.sort_values(axis=0,by=['name','year','month','day'])"
   ]
  },
  {
   "cell_type": "code",
   "execution_count": 3,
   "metadata": {},
   "outputs": [
    {
     "name": "stderr",
     "output_type": "stream",
     "text": [
      "C:\\Users\\Kenne\\AppData\\Local\\Temp\\ipykernel_37988\\1072225810.py:8: FutureWarning: DataFrame.fillna with 'method' is deprecated and will raise in a future version. Use obj.ffill() or obj.bfill() instead.\n",
      "  df_cleaned[['lat', 'long']] = df_cleaned[['lat', 'long']].fillna(method='ffill')\n",
      "C:\\Users\\Kenne\\AppData\\Local\\Temp\\ipykernel_37988\\1072225810.py:11: FutureWarning: A value is trying to be set on a copy of a DataFrame or Series through chained assignment using an inplace method.\n",
      "The behavior will change in pandas 3.0. This inplace method will never work because the intermediate object on which we are setting values always behaves as a copy.\n",
      "\n",
      "For example, when doing 'df[col].method(value, inplace=True)', try using 'df.method({col: value}, inplace=True)' or df[col] = df[col].method(value) instead, to perform the operation inplace on the original object.\n",
      "\n",
      "\n",
      "  df_cleaned['wind'].fillna(df_cleaned['wind'].mean(), inplace=True)\n",
      "C:\\Users\\Kenne\\AppData\\Local\\Temp\\ipykernel_37988\\1072225810.py:12: FutureWarning: A value is trying to be set on a copy of a DataFrame or Series through chained assignment using an inplace method.\n",
      "The behavior will change in pandas 3.0. This inplace method will never work because the intermediate object on which we are setting values always behaves as a copy.\n",
      "\n",
      "For example, when doing 'df[col].method(value, inplace=True)', try using 'df.method({col: value}, inplace=True)' or df[col] = df[col].method(value) instead, to perform the operation inplace on the original object.\n",
      "\n",
      "\n",
      "  df_cleaned['pressure'].fillna(df_cleaned['pressure'].mean(), inplace=True)\n"
     ]
    },
    {
     "data": {
      "text/html": [
       "<div>\n",
       "<style scoped>\n",
       "    .dataframe tbody tr th:only-of-type {\n",
       "        vertical-align: middle;\n",
       "    }\n",
       "\n",
       "    .dataframe tbody tr th {\n",
       "        vertical-align: top;\n",
       "    }\n",
       "\n",
       "    .dataframe thead th {\n",
       "        text-align: right;\n",
       "    }\n",
       "</style>\n",
       "<table border=\"1\" class=\"dataframe\">\n",
       "  <thead>\n",
       "    <tr style=\"text-align: right;\">\n",
       "      <th></th>\n",
       "      <th>lat</th>\n",
       "      <th>long</th>\n",
       "      <th>wind</th>\n",
       "      <th>pressure</th>\n",
       "    </tr>\n",
       "  </thead>\n",
       "  <tbody>\n",
       "    <tr>\n",
       "      <th>4544</th>\n",
       "      <td>21.5</td>\n",
       "      <td>-84.0</td>\n",
       "      <td>25</td>\n",
       "      <td>1003</td>\n",
       "    </tr>\n",
       "    <tr>\n",
       "      <th>4545</th>\n",
       "      <td>22.3</td>\n",
       "      <td>-82.0</td>\n",
       "      <td>25</td>\n",
       "      <td>1002</td>\n",
       "    </tr>\n",
       "    <tr>\n",
       "      <th>4546</th>\n",
       "      <td>23.2</td>\n",
       "      <td>-80.3</td>\n",
       "      <td>25</td>\n",
       "      <td>1000</td>\n",
       "    </tr>\n",
       "    <tr>\n",
       "      <th>4547</th>\n",
       "      <td>24.5</td>\n",
       "      <td>-79.0</td>\n",
       "      <td>25</td>\n",
       "      <td>1000</td>\n",
       "    </tr>\n",
       "    <tr>\n",
       "      <th>4548</th>\n",
       "      <td>25.4</td>\n",
       "      <td>-77.5</td>\n",
       "      <td>30</td>\n",
       "      <td>999</td>\n",
       "    </tr>\n",
       "  </tbody>\n",
       "</table>\n",
       "</div>"
      ],
      "text/plain": [
       "       lat  long  wind  pressure\n",
       "4544  21.5 -84.0    25      1003\n",
       "4545  22.3 -82.0    25      1002\n",
       "4546  23.2 -80.3    25      1000\n",
       "4547  24.5 -79.0    25      1000\n",
       "4548  25.4 -77.5    30       999"
      ]
     },
     "execution_count": 3,
     "metadata": {},
     "output_type": "execute_result"
    }
   ],
   "source": [
    "# Let's clean the data by handling the NaN values and ensuring all relevant columns are ready for model input.\n",
    "# We'll fill NaN values with appropriate strategies (e.g., forward fill for continuity or filling with mean values for wind and pressure).\n",
    "\n",
    "# Dropping the 'Unnamed: 0', 'name', 'year', 'month', 'day', 'hour', 'status', and 'category' columns since they're not needed for the model\n",
    "df_cleaned = df.drop(columns=['Unnamed: 0', 'name', 'year', 'month', 'day', 'hour', 'status', 'category','tropicalstorm_force_diameter','hurricane_force_diameter'])\n",
    "\n",
    "# Forward fill the latitude and longitude to maintain continuity\n",
    "df_cleaned[['lat', 'long']] = df_cleaned[['lat', 'long']].fillna(method='ffill')\n",
    "\n",
    "# Fill NaN values in 'wind' and 'pressure' with the mean of each column\n",
    "df_cleaned['wind'].fillna(df_cleaned['wind'].mean(), inplace=True)\n",
    "df_cleaned['pressure'].fillna(df_cleaned['pressure'].mean(), inplace=True)\n",
    "\n",
    "# Fill NaN values in 'tropicalstorm_force_diameter' and 'hurricane_force_diameter' with 0 (assuming no force if NaN)\n",
    "#df_cleaned['tropicalstorm_force_diameter'].fillna(0, inplace=True)\n",
    "#df_cleaned['hurricane_force_diameter'].fillna(0, inplace=True)\n",
    "\n",
    "# Display the first few rows of the cleaned data\n",
    "df_cleaned.head()\n"
   ]
  },
  {
   "cell_type": "code",
   "execution_count": 4,
   "metadata": {},
   "outputs": [
    {
     "name": "stderr",
     "output_type": "stream",
     "text": [
      "c:\\Users\\Kenne\\AppData\\Local\\Programs\\Python\\Python312\\Lib\\site-packages\\keras\\src\\layers\\rnn\\rnn.py:204: UserWarning: Do not pass an `input_shape`/`input_dim` argument to a layer. When using Sequential models, prefer using an `Input(shape)` object as the first layer in the model instead.\n",
      "  super().__init__(**kwargs)\n"
     ]
    },
    {
     "name": "stdout",
     "output_type": "stream",
     "text": [
      "Epoch 1/50\n",
      "\u001b[1m477/477\u001b[0m \u001b[32m━━━━━━━━━━━━━━━━━━━━\u001b[0m\u001b[37m\u001b[0m \u001b[1m8s\u001b[0m 11ms/step - accuracy: 0.5999 - loss: 0.0514 - val_accuracy: 0.7621 - val_loss: 0.0202\n",
      "Epoch 2/50\n",
      "\u001b[1m477/477\u001b[0m \u001b[32m━━━━━━━━━━━━━━━━━━━━\u001b[0m\u001b[37m\u001b[0m \u001b[1m5s\u001b[0m 11ms/step - accuracy: 0.7797 - loss: 0.0204 - val_accuracy: 0.8035 - val_loss: 0.0152\n",
      "Epoch 3/50\n",
      "\u001b[1m477/477\u001b[0m \u001b[32m━━━━━━━━━━━━━━━━━━━━\u001b[0m\u001b[37m\u001b[0m \u001b[1m6s\u001b[0m 12ms/step - accuracy: 0.8133 - loss: 0.0155 - val_accuracy: 0.8507 - val_loss: 0.0120\n",
      "Epoch 4/50\n",
      "\u001b[1m477/477\u001b[0m \u001b[32m━━━━━━━━━━━━━━━━━━━━\u001b[0m\u001b[37m\u001b[0m \u001b[1m5s\u001b[0m 11ms/step - accuracy: 0.8398 - loss: 0.0124 - val_accuracy: 0.8610 - val_loss: 0.0099\n",
      "Epoch 5/50\n",
      "\u001b[1m477/477\u001b[0m \u001b[32m━━━━━━━━━━━━━━━━━━━━\u001b[0m\u001b[37m\u001b[0m \u001b[1m5s\u001b[0m 11ms/step - accuracy: 0.8622 - loss: 0.0098 - val_accuracy: 0.8856 - val_loss: 0.0083\n",
      "Epoch 6/50\n",
      "\u001b[1m477/477\u001b[0m \u001b[32m━━━━━━━━━━━━━━━━━━━━\u001b[0m\u001b[37m\u001b[0m \u001b[1m5s\u001b[0m 10ms/step - accuracy: 0.8811 - loss: 0.0089 - val_accuracy: 0.9056 - val_loss: 0.0072\n",
      "Epoch 7/50\n",
      "\u001b[1m477/477\u001b[0m \u001b[32m━━━━━━━━━━━━━━━━━━━━\u001b[0m\u001b[37m\u001b[0m \u001b[1m5s\u001b[0m 11ms/step - accuracy: 0.8875 - loss: 0.0079 - val_accuracy: 0.9105 - val_loss: 0.0064\n",
      "Epoch 8/50\n",
      "\u001b[1m477/477\u001b[0m \u001b[32m━━━━━━━━━━━━━━━━━━━━\u001b[0m\u001b[37m\u001b[0m \u001b[1m5s\u001b[0m 10ms/step - accuracy: 0.8925 - loss: 0.0068 - val_accuracy: 0.9042 - val_loss: 0.0056\n",
      "Epoch 9/50\n",
      "\u001b[1m477/477\u001b[0m \u001b[32m━━━━━━━━━━━━━━━━━━━━\u001b[0m\u001b[37m\u001b[0m \u001b[1m5s\u001b[0m 10ms/step - accuracy: 0.8972 - loss: 0.0061 - val_accuracy: 0.9216 - val_loss: 0.0050\n",
      "Epoch 10/50\n",
      "\u001b[1m477/477\u001b[0m \u001b[32m━━━━━━━━━━━━━━━━━━━━\u001b[0m\u001b[37m\u001b[0m \u001b[1m5s\u001b[0m 11ms/step - accuracy: 0.9080 - loss: 0.0054 - val_accuracy: 0.9145 - val_loss: 0.0046\n",
      "Epoch 11/50\n",
      "\u001b[1m477/477\u001b[0m \u001b[32m━━━━━━━━━━━━━━━━━━━━\u001b[0m\u001b[37m\u001b[0m \u001b[1m5s\u001b[0m 11ms/step - accuracy: 0.9166 - loss: 0.0049 - val_accuracy: 0.9378 - val_loss: 0.0043\n",
      "Epoch 12/50\n",
      "\u001b[1m477/477\u001b[0m \u001b[32m━━━━━━━━━━━━━━━━━━━━\u001b[0m\u001b[37m\u001b[0m \u001b[1m6s\u001b[0m 11ms/step - accuracy: 0.9199 - loss: 0.0047 - val_accuracy: 0.9399 - val_loss: 0.0041\n",
      "Epoch 13/50\n",
      "\u001b[1m477/477\u001b[0m \u001b[32m━━━━━━━━━━━━━━━━━━━━\u001b[0m\u001b[37m\u001b[0m \u001b[1m6s\u001b[0m 12ms/step - accuracy: 0.9230 - loss: 0.0041 - val_accuracy: 0.9457 - val_loss: 0.0040\n",
      "Epoch 14/50\n",
      "\u001b[1m477/477\u001b[0m \u001b[32m━━━━━━━━━━━━━━━━━━━━\u001b[0m\u001b[37m\u001b[0m \u001b[1m5s\u001b[0m 10ms/step - accuracy: 0.9284 - loss: 0.0041 - val_accuracy: 0.9478 - val_loss: 0.0039\n",
      "Epoch 15/50\n",
      "\u001b[1m477/477\u001b[0m \u001b[32m━━━━━━━━━━━━━━━━━━━━\u001b[0m\u001b[37m\u001b[0m \u001b[1m5s\u001b[0m 10ms/step - accuracy: 0.9310 - loss: 0.0041 - val_accuracy: 0.9502 - val_loss: 0.0039\n",
      "Epoch 16/50\n",
      "\u001b[1m477/477\u001b[0m \u001b[32m━━━━━━━━━━━━━━━━━━━━\u001b[0m\u001b[37m\u001b[0m \u001b[1m5s\u001b[0m 10ms/step - accuracy: 0.9354 - loss: 0.0041 - val_accuracy: 0.9446 - val_loss: 0.0038\n",
      "Epoch 17/50\n",
      "\u001b[1m477/477\u001b[0m \u001b[32m━━━━━━━━━━━━━━━━━━━━\u001b[0m\u001b[37m\u001b[0m \u001b[1m5s\u001b[0m 10ms/step - accuracy: 0.9342 - loss: 0.0041 - val_accuracy: 0.9509 - val_loss: 0.0039\n",
      "Epoch 18/50\n",
      "\u001b[1m477/477\u001b[0m \u001b[32m━━━━━━━━━━━━━━━━━━━━\u001b[0m\u001b[37m\u001b[0m \u001b[1m6s\u001b[0m 12ms/step - accuracy: 0.9357 - loss: 0.0038 - val_accuracy: 0.9473 - val_loss: 0.0037\n",
      "Epoch 19/50\n",
      "\u001b[1m477/477\u001b[0m \u001b[32m━━━━━━━━━━━━━━━━━━━━\u001b[0m\u001b[37m\u001b[0m \u001b[1m5s\u001b[0m 11ms/step - accuracy: 0.9356 - loss: 0.0037 - val_accuracy: 0.9494 - val_loss: 0.0037\n",
      "Epoch 20/50\n",
      "\u001b[1m477/477\u001b[0m \u001b[32m━━━━━━━━━━━━━━━━━━━━\u001b[0m\u001b[37m\u001b[0m \u001b[1m5s\u001b[0m 10ms/step - accuracy: 0.9376 - loss: 0.0038 - val_accuracy: 0.9488 - val_loss: 0.0038\n",
      "Epoch 21/50\n",
      "\u001b[1m477/477\u001b[0m \u001b[32m━━━━━━━━━━━━━━━━━━━━\u001b[0m\u001b[37m\u001b[0m \u001b[1m5s\u001b[0m 11ms/step - accuracy: 0.9432 - loss: 0.0036 - val_accuracy: 0.9509 - val_loss: 0.0038\n",
      "Epoch 22/50\n",
      "\u001b[1m477/477\u001b[0m \u001b[32m━━━━━━━━━━━━━━━━━━━━\u001b[0m\u001b[37m\u001b[0m \u001b[1m5s\u001b[0m 10ms/step - accuracy: 0.9375 - loss: 0.0040 - val_accuracy: 0.9567 - val_loss: 0.0037\n",
      "Epoch 23/50\n",
      "\u001b[1m477/477\u001b[0m \u001b[32m━━━━━━━━━━━━━━━━━━━━\u001b[0m\u001b[37m\u001b[0m \u001b[1m5s\u001b[0m 11ms/step - accuracy: 0.9385 - loss: 0.0040 - val_accuracy: 0.9465 - val_loss: 0.0037\n",
      "Epoch 24/50\n",
      "\u001b[1m477/477\u001b[0m \u001b[32m━━━━━━━━━━━━━━━━━━━━\u001b[0m\u001b[37m\u001b[0m \u001b[1m5s\u001b[0m 11ms/step - accuracy: 0.9426 - loss: 0.0038 - val_accuracy: 0.9428 - val_loss: 0.0037\n",
      "Epoch 25/50\n",
      "\u001b[1m477/477\u001b[0m \u001b[32m━━━━━━━━━━━━━━━━━━━━\u001b[0m\u001b[37m\u001b[0m \u001b[1m5s\u001b[0m 11ms/step - accuracy: 0.9398 - loss: 0.0039 - val_accuracy: 0.9570 - val_loss: 0.0036\n",
      "Epoch 26/50\n",
      "\u001b[1m477/477\u001b[0m \u001b[32m━━━━━━━━━━━━━━━━━━━━\u001b[0m\u001b[37m\u001b[0m \u001b[1m5s\u001b[0m 11ms/step - accuracy: 0.9452 - loss: 0.0036 - val_accuracy: 0.9520 - val_loss: 0.0036\n",
      "Epoch 27/50\n",
      "\u001b[1m477/477\u001b[0m \u001b[32m━━━━━━━━━━━━━━━━━━━━\u001b[0m\u001b[37m\u001b[0m \u001b[1m5s\u001b[0m 10ms/step - accuracy: 0.9418 - loss: 0.0036 - val_accuracy: 0.9473 - val_loss: 0.0036\n",
      "Epoch 28/50\n",
      "\u001b[1m477/477\u001b[0m \u001b[32m━━━━━━━━━━━━━━━━━━━━\u001b[0m\u001b[37m\u001b[0m \u001b[1m5s\u001b[0m 10ms/step - accuracy: 0.9471 - loss: 0.0035 - val_accuracy: 0.9575 - val_loss: 0.0036\n",
      "Epoch 29/50\n",
      "\u001b[1m477/477\u001b[0m \u001b[32m━━━━━━━━━━━━━━━━━━━━\u001b[0m\u001b[37m\u001b[0m \u001b[1m5s\u001b[0m 10ms/step - accuracy: 0.9442 - loss: 0.0040 - val_accuracy: 0.9538 - val_loss: 0.0036\n",
      "Epoch 30/50\n",
      "\u001b[1m477/477\u001b[0m \u001b[32m━━━━━━━━━━━━━━━━━━━━\u001b[0m\u001b[37m\u001b[0m \u001b[1m5s\u001b[0m 11ms/step - accuracy: 0.9446 - loss: 0.0037 - val_accuracy: 0.9567 - val_loss: 0.0036\n",
      "Epoch 31/50\n",
      "\u001b[1m477/477\u001b[0m \u001b[32m━━━━━━━━━━━━━━━━━━━━\u001b[0m\u001b[37m\u001b[0m \u001b[1m6s\u001b[0m 12ms/step - accuracy: 0.9444 - loss: 0.0037 - val_accuracy: 0.9515 - val_loss: 0.0036\n",
      "Epoch 32/50\n",
      "\u001b[1m477/477\u001b[0m \u001b[32m━━━━━━━━━━━━━━━━━━━━\u001b[0m\u001b[37m\u001b[0m \u001b[1m5s\u001b[0m 11ms/step - accuracy: 0.9410 - loss: 0.0039 - val_accuracy: 0.9562 - val_loss: 0.0036\n",
      "Epoch 33/50\n",
      "\u001b[1m477/477\u001b[0m \u001b[32m━━━━━━━━━━━━━━━━━━━━\u001b[0m\u001b[37m\u001b[0m \u001b[1m5s\u001b[0m 10ms/step - accuracy: 0.9465 - loss: 0.0036 - val_accuracy: 0.9554 - val_loss: 0.0036\n",
      "Epoch 34/50\n",
      "\u001b[1m477/477\u001b[0m \u001b[32m━━━━━━━━━━━━━━━━━━━━\u001b[0m\u001b[37m\u001b[0m \u001b[1m5s\u001b[0m 11ms/step - accuracy: 0.9427 - loss: 0.0036 - val_accuracy: 0.9601 - val_loss: 0.0036\n",
      "Epoch 35/50\n",
      "\u001b[1m477/477\u001b[0m \u001b[32m━━━━━━━━━━━━━━━━━━━━\u001b[0m\u001b[37m\u001b[0m \u001b[1m5s\u001b[0m 11ms/step - accuracy: 0.9471 - loss: 0.0035 - val_accuracy: 0.9586 - val_loss: 0.0036\n",
      "Epoch 36/50\n",
      "\u001b[1m477/477\u001b[0m \u001b[32m━━━━━━━━━━━━━━━━━━━━\u001b[0m\u001b[37m\u001b[0m \u001b[1m5s\u001b[0m 11ms/step - accuracy: 0.9454 - loss: 0.0034 - val_accuracy: 0.9575 - val_loss: 0.0036\n",
      "Epoch 37/50\n",
      "\u001b[1m477/477\u001b[0m \u001b[32m━━━━━━━━━━━━━━━━━━━━\u001b[0m\u001b[37m\u001b[0m \u001b[1m5s\u001b[0m 10ms/step - accuracy: 0.9476 - loss: 0.0037 - val_accuracy: 0.9570 - val_loss: 0.0036\n",
      "Epoch 38/50\n",
      "\u001b[1m477/477\u001b[0m \u001b[32m━━━━━━━━━━━━━━━━━━━━\u001b[0m\u001b[37m\u001b[0m \u001b[1m5s\u001b[0m 11ms/step - accuracy: 0.9464 - loss: 0.0038 - val_accuracy: 0.9607 - val_loss: 0.0036\n",
      "Epoch 39/50\n",
      "\u001b[1m477/477\u001b[0m \u001b[32m━━━━━━━━━━━━━━━━━━━━\u001b[0m\u001b[37m\u001b[0m \u001b[1m7s\u001b[0m 15ms/step - accuracy: 0.9496 - loss: 0.0035 - val_accuracy: 0.9549 - val_loss: 0.0035\n",
      "Epoch 40/50\n",
      "\u001b[1m477/477\u001b[0m \u001b[32m━━━━━━━━━━━━━━━━━━━━\u001b[0m\u001b[37m\u001b[0m \u001b[1m6s\u001b[0m 13ms/step - accuracy: 0.9448 - loss: 0.0039 - val_accuracy: 0.9572 - val_loss: 0.0036\n",
      "Epoch 41/50\n",
      "\u001b[1m477/477\u001b[0m \u001b[32m━━━━━━━━━━━━━━━━━━━━\u001b[0m\u001b[37m\u001b[0m \u001b[1m5s\u001b[0m 11ms/step - accuracy: 0.9508 - loss: 0.0036 - val_accuracy: 0.9567 - val_loss: 0.0036\n",
      "Epoch 42/50\n",
      "\u001b[1m477/477\u001b[0m \u001b[32m━━━━━━━━━━━━━━━━━━━━\u001b[0m\u001b[37m\u001b[0m \u001b[1m6s\u001b[0m 13ms/step - accuracy: 0.9490 - loss: 0.0036 - val_accuracy: 0.9507 - val_loss: 0.0036\n",
      "Epoch 43/50\n",
      "\u001b[1m477/477\u001b[0m \u001b[32m━━━━━━━━━━━━━━━━━━━━\u001b[0m\u001b[37m\u001b[0m \u001b[1m6s\u001b[0m 12ms/step - accuracy: 0.9458 - loss: 0.0036 - val_accuracy: 0.9586 - val_loss: 0.0036\n",
      "Epoch 44/50\n",
      "\u001b[1m477/477\u001b[0m \u001b[32m━━━━━━━━━━━━━━━━━━━━\u001b[0m\u001b[37m\u001b[0m \u001b[1m6s\u001b[0m 12ms/step - accuracy: 0.9470 - loss: 0.0034 - val_accuracy: 0.9614 - val_loss: 0.0035\n",
      "Epoch 45/50\n",
      "\u001b[1m477/477\u001b[0m \u001b[32m━━━━━━━━━━━━━━━━━━━━\u001b[0m\u001b[37m\u001b[0m \u001b[1m5s\u001b[0m 11ms/step - accuracy: 0.9462 - loss: 0.0035 - val_accuracy: 0.9586 - val_loss: 0.0035\n",
      "Epoch 46/50\n",
      "\u001b[1m477/477\u001b[0m \u001b[32m━━━━━━━━━━━━━━━━━━━━\u001b[0m\u001b[37m\u001b[0m \u001b[1m5s\u001b[0m 11ms/step - accuracy: 0.9466 - loss: 0.0035 - val_accuracy: 0.9599 - val_loss: 0.0035\n",
      "Epoch 47/50\n",
      "\u001b[1m477/477\u001b[0m \u001b[32m━━━━━━━━━━━━━━━━━━━━\u001b[0m\u001b[37m\u001b[0m \u001b[1m5s\u001b[0m 11ms/step - accuracy: 0.9468 - loss: 0.0035 - val_accuracy: 0.9533 - val_loss: 0.0035\n",
      "Epoch 48/50\n",
      "\u001b[1m477/477\u001b[0m \u001b[32m━━━━━━━━━━━━━━━━━━━━\u001b[0m\u001b[37m\u001b[0m \u001b[1m5s\u001b[0m 11ms/step - accuracy: 0.9458 - loss: 0.0035 - val_accuracy: 0.9559 - val_loss: 0.0036\n",
      "Epoch 49/50\n",
      "\u001b[1m477/477\u001b[0m \u001b[32m━━━━━━━━━━━━━━━━━━━━\u001b[0m\u001b[37m\u001b[0m \u001b[1m5s\u001b[0m 11ms/step - accuracy: 0.9490 - loss: 0.0035 - val_accuracy: 0.9575 - val_loss: 0.0036\n",
      "Epoch 50/50\n",
      "\u001b[1m477/477\u001b[0m \u001b[32m━━━━━━━━━━━━━━━━━━━━\u001b[0m\u001b[37m\u001b[0m \u001b[1m5s\u001b[0m 11ms/step - accuracy: 0.9484 - loss: 0.0036 - val_accuracy: 0.9562 - val_loss: 0.0035\n",
      "\u001b[1m1/1\u001b[0m \u001b[32m━━━━━━━━━━━━━━━━━━━━\u001b[0m\u001b[37m\u001b[0m \u001b[1m0s\u001b[0m 243ms/step\n"
     ]
    }
   ],
   "source": [
    "\n",
    "\n",
    "# Create sequences of data\n",
    "def create_sequences(data, seq_length):\n",
    "    sequences = []\n",
    "    targets = []\n",
    "    for i in range(len(data) - seq_length):\n",
    "        seq = data[i:i+seq_length]\n",
    "        target = data.iloc[i+seq_length][['lat', 'long']]\n",
    "        sequences.append(seq)\n",
    "        targets.append(target)\n",
    "    return np.array(sequences), np.array(targets)\n",
    "\n",
    "# Normalize the data\n",
    "scaler = MinMaxScaler()\n",
    "normalized_data = scaler.fit_transform(df[['wind', 'pressure', 'lat', 'long']])\n",
    "\n",
    "# Create sequences\n",
    "seq_length = 10  # 10 time steps of 6-hour intervals = 60 hours of data\n",
    "X, y = create_sequences(pd.DataFrame(normalized_data, columns=['wind', 'pressure', 'lat', 'long']), seq_length)\n",
    "\n",
    "# Split the data\n",
    "X_train, X_test, y_train, y_test = train_test_split(X, y, test_size=0.2, random_state=42)\n",
    "\n",
    "# Define the model\n",
    "model = Sequential([\n",
    "    LSTM(128, activation='tanh', input_shape=(seq_length, 4), return_sequences=True),\n",
    "    Dropout(0.2),\n",
    "    LSTM(64, activation='tanh'),\n",
    "    Dropout(0.2),\n",
    "    Dense(32, activation='tanh'),\n",
    "    Dense(16, activation='tanh'),\n",
    "    Dense(8, activation='softmax'),\n",
    "    Dense(2)  # Output layer: predicted latitude and longitude\n",
    "])\n",
    "\n",
    "# Compile the model\n",
    "model.compile(optimizer=AdamW(learning_rate=1e-4), loss='mse',metrics=[\"accuracy\"])\n",
    "\n",
    "# Train the model\n",
    "history = model.fit(X_train, y_train, epochs=50, batch_size=32, validation_data=(X_test, y_test), verbose=1)\n",
    "\n",
    "# Make predictions\n",
    "sample_data = X_test[:1]  # Take the first sequence from the test set\n",
    "prediction = model.predict(sample_data)\n",
    "\n"
   ]
  },
  {
   "cell_type": "code",
   "execution_count": 5,
   "metadata": {},
   "outputs": [
    {
     "name": "stdout",
     "output_type": "stream",
     "text": [
      "Prediction shape: (1, 2)\n",
      "Zeros (1, 3) shape: (1, 3)\n",
      "Zeros (1, 1) shape: (1, 1)\n"
     ]
    }
   ],
   "source": [
    "print(\"Prediction shape:\", prediction.shape)\n",
    "print(\"Zeros (1, 3) shape:\", np.zeros((1, 3)).shape)\n",
    "print(\"Zeros (1, 1) shape:\", np.zeros((1, 1)).shape)"
   ]
  },
  {
   "cell_type": "code",
   "execution_count": 6,
   "metadata": {},
   "outputs": [
    {
     "name": "stdout",
     "output_type": "stream",
     "text": [
      "\u001b[1m1/1\u001b[0m \u001b[32m━━━━━━━━━━━━━━━━━━━━\u001b[0m\u001b[37m\u001b[0m \u001b[1m0s\u001b[0m 28ms/step\n",
      "Prediction shape: (1, 2)\n",
      "Zeros (1, 3) shape: (1, 3)\n",
      "Zeros (1, 1) shape: (1, 1)\n"
     ]
    }
   ],
   "source": [
    "sample_data = X_test[:1]  # Take the first sequence from the test set\n",
    "prediction = model.predict(sample_data)\n",
    "\n",
    "print(\"Prediction shape:\", prediction.shape)\n",
    "print(\"Zeros (1, 3) shape:\", np.zeros((1, 3)).shape)\n",
    "print(\"Zeros (1, 1) shape:\", np.zeros((1, 1)).shape)"
   ]
  },
  {
   "cell_type": "code",
   "execution_count": 7,
   "metadata": {},
   "outputs": [],
   "source": [
    "# Assuming prediction shape is (1, 2) for lat and lon\n",
    "prediction_padded = np.pad(prediction, ((0, 0), (2, 0)), mode='constant')\n",
    "prediction_original_scale = scaler.inverse_transform(prediction_padded)[:, 2:4]"
   ]
  },
  {
   "cell_type": "code",
   "execution_count": 8,
   "metadata": {},
   "outputs": [
    {
     "name": "stdout",
     "output_type": "stream",
     "text": [
      "Predicted next position (lat, lon): [ 36.36387 -65.73478]\n"
     ]
    }
   ],
   "source": [
    "# Inverse transform the prediction to get actual latitude and longitude\n",
    "#prediction_original_scale = scaler.inverse_transform(np.concatenate([np.zeros((1, 3)), prediction, np.zeros((1, 1))], axis=1))[:, 2:4]\n",
    "\n",
    "print(f\"Predicted next position (lat, lon): {prediction_original_scale[0]}\")"
   ]
  },
  {
   "cell_type": "code",
   "execution_count": 9,
   "metadata": {},
   "outputs": [],
   "source": [
    "import matplotlib.pyplot as plt"
   ]
  },
  {
   "cell_type": "code",
   "execution_count": 12,
   "metadata": {},
   "outputs": [
    {
     "data": {
      "image/png": "[encoded data removed]",
      "text/plain": [
       "<Figure size 640x480 with 1 Axes>"
      ]
     },
     "metadata": {},
     "output_type": "display_data"
    }
   ],
   "source": [
    "# Plot the loss\n",
    "plt.figure()\n",
    "plt.plot(history.history['loss'], label='Training Loss')\n",
    "plt.plot(history.history['val_loss'], label='Validation Loss')\n",
    "plt.title('Loss')\n",
    "plt.ylabel('Loss')\n",
    "plt.xlabel('Epoch')\n",
    "plt.legend()\n",
    "plt.grid(True)\n",
    "plt.show()"
   ]
  },
  {
   "cell_type": "code",
   "execution_count": 13,
   "metadata": {},
   "outputs": [
    {
     "name": "stderr",
     "output_type": "stream",
     "text": [
      "WARNING:absl:You are saving your model as an HDF5 file via `model.save()` or `keras.saving.save_model(model)`. This file format is considered legacy. We recommend using instead the native Keras format, e.g. `model.save('my_model.keras')` or `keras.saving.save_model(model, 'my_model.keras')`. \n"
     ]
    }
   ],
   "source": [
    "model.save('hurri_pred.h5')\n"
   ]
  }
 ],
 "metadata": {
  "kernelspec": {
   "display_name": "Python 3",
   "language": "python",
   "name": "python3"
  },
  "language_info": {
   "codemirror_mode": {
    "name": "ipython",
    "version": 3
   },
   "file_extension": ".py",
   "mimetype": "text/x-python",
   "name": "python",
   "nbconvert_exporter": "python",
   "pygments_lexer": "ipython3",
   "version": "3.12.3"
  }
 },
 "nbformat": 4,
 "nbformat_minor": 2
}
